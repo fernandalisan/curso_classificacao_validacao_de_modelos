{
 "cells": [
  {
   "cell_type": "markdown",
   "id": "d7313525",
   "metadata": {},
   "source": [
    "# Importando bibliotecas"
   ]
  },
  {
   "cell_type": "code",
   "execution_count": 452,
   "id": "ce435145",
   "metadata": {},
   "outputs": [],
   "source": [
    "import pandas  as pd\n",
    "\n",
    "\n",
    "from sklearn.tree             import DecisionTreeClassifier\n",
    "from sklearn.model_selection  import train_test_split\n",
    "from sklearn.metrics          import confusion_matrix\n",
    "from sklearn.metrics          import ConfusionMatrixDisplay\n",
    "from sklearn.metrics          import accuracy_score\n",
    "from sklearn.metrics          import precision_score, recall_score\n",
    "from sklearn.metrics          import f1_score\n",
    "from sklearn.metrics          import RocCurveDisplay\n",
    "from sklearn.metrics          import roc_auc_score\n",
    "from sklearn.metrics          import PrecisionRecallDisplay\n",
    "from sklearn.metrics          import average_precision_score\n",
    "from sklearn.metrics          import classification_report\n",
    "from sklearn.model_selection  import cross_validate, KFold\n",
    "from sklearn.model_selection  import StratifiedKFold\n",
    "from imblearn.over_sampling   import SMOTE\n",
    "from imblearn.pipeline        import Pipeline as imbpipeline\n",
    "from imblearn.under_sampling  import NearMiss\n",
    "from imblearn.under_sampling  import NearMiss\n"
   ]
  },
  {
   "cell_type": "markdown",
   "id": "c5740b4a",
   "metadata": {},
   "source": [
    "# Importando os dados"
   ]
  },
  {
   "cell_type": "code",
   "execution_count": 453,
   "id": "5c4841b4",
   "metadata": {},
   "outputs": [
    {
     "data": {
      "text/html": [
       "<div>\n",
       "<style scoped>\n",
       "    .dataframe tbody tr th:only-of-type {\n",
       "        vertical-align: middle;\n",
       "    }\n",
       "\n",
       "    .dataframe tbody tr th {\n",
       "        vertical-align: top;\n",
       "    }\n",
       "\n",
       "    .dataframe thead th {\n",
       "        text-align: right;\n",
       "    }\n",
       "</style>\n",
       "<table border=\"1\" class=\"dataframe\">\n",
       "  <thead>\n",
       "    <tr style=\"text-align: right;\">\n",
       "      <th></th>\n",
       "      <th>receita_cliente</th>\n",
       "      <th>anuidade_emprestimo</th>\n",
       "      <th>anos_casa_propria</th>\n",
       "      <th>telefone_trab</th>\n",
       "      <th>avaliacao_cidade</th>\n",
       "      <th>score_1</th>\n",
       "      <th>score_2</th>\n",
       "      <th>score_3</th>\n",
       "      <th>score_social</th>\n",
       "      <th>troca_telefone</th>\n",
       "      <th>inadimplente</th>\n",
       "    </tr>\n",
       "  </thead>\n",
       "  <tbody>\n",
       "    <tr>\n",
       "      <th>0</th>\n",
       "      <td>12600.0</td>\n",
       "      <td>3569.400000</td>\n",
       "      <td>12.157324</td>\n",
       "      <td>1</td>\n",
       "      <td>2.0</td>\n",
       "      <td>0.057153</td>\n",
       "      <td>0.527227</td>\n",
       "      <td>0.513171</td>\n",
       "      <td>0.117428</td>\n",
       "      <td>2545.0</td>\n",
       "      <td>0</td>\n",
       "    </tr>\n",
       "    <tr>\n",
       "      <th>1</th>\n",
       "      <td>9000.0</td>\n",
       "      <td>2722.188351</td>\n",
       "      <td>7.000000</td>\n",
       "      <td>0</td>\n",
       "      <td>2.0</td>\n",
       "      <td>0.657661</td>\n",
       "      <td>0.285898</td>\n",
       "      <td>0.614414</td>\n",
       "      <td>0.222700</td>\n",
       "      <td>495.0</td>\n",
       "      <td>0</td>\n",
       "    </tr>\n",
       "    <tr>\n",
       "      <th>2</th>\n",
       "      <td>15750.0</td>\n",
       "      <td>4477.500000</td>\n",
       "      <td>12.000000</td>\n",
       "      <td>0</td>\n",
       "      <td>2.0</td>\n",
       "      <td>0.501213</td>\n",
       "      <td>0.695423</td>\n",
       "      <td>0.513171</td>\n",
       "      <td>0.117428</td>\n",
       "      <td>1212.0</td>\n",
       "      <td>0</td>\n",
       "    </tr>\n",
       "    <tr>\n",
       "      <th>3</th>\n",
       "      <td>9000.0</td>\n",
       "      <td>1309.050000</td>\n",
       "      <td>12.157324</td>\n",
       "      <td>0</td>\n",
       "      <td>3.0</td>\n",
       "      <td>0.501213</td>\n",
       "      <td>0.155973</td>\n",
       "      <td>0.513171</td>\n",
       "      <td>0.117428</td>\n",
       "      <td>515.0</td>\n",
       "      <td>0</td>\n",
       "    </tr>\n",
       "    <tr>\n",
       "      <th>4</th>\n",
       "      <td>7650.0</td>\n",
       "      <td>1125.000000</td>\n",
       "      <td>12.157324</td>\n",
       "      <td>0</td>\n",
       "      <td>2.0</td>\n",
       "      <td>0.294328</td>\n",
       "      <td>0.152076</td>\n",
       "      <td>0.513171</td>\n",
       "      <td>0.117428</td>\n",
       "      <td>162.0</td>\n",
       "      <td>0</td>\n",
       "    </tr>\n",
       "  </tbody>\n",
       "</table>\n",
       "</div>"
      ],
      "text/plain": [
       "   receita_cliente  anuidade_emprestimo  anos_casa_propria  telefone_trab  \\\n",
       "0          12600.0          3569.400000          12.157324              1   \n",
       "1           9000.0          2722.188351           7.000000              0   \n",
       "2          15750.0          4477.500000          12.000000              0   \n",
       "3           9000.0          1309.050000          12.157324              0   \n",
       "4           7650.0          1125.000000          12.157324              0   \n",
       "\n",
       "   avaliacao_cidade   score_1   score_2   score_3  score_social  \\\n",
       "0               2.0  0.057153  0.527227  0.513171      0.117428   \n",
       "1               2.0  0.657661  0.285898  0.614414      0.222700   \n",
       "2               2.0  0.501213  0.695423  0.513171      0.117428   \n",
       "3               3.0  0.501213  0.155973  0.513171      0.117428   \n",
       "4               2.0  0.294328  0.152076  0.513171      0.117428   \n",
       "\n",
       "   troca_telefone  inadimplente  \n",
       "0          2545.0             0  \n",
       "1           495.0             0  \n",
       "2          1212.0             0  \n",
       "3           515.0             0  \n",
       "4           162.0             0  "
      ]
     },
     "execution_count": 453,
     "metadata": {},
     "output_type": "execute_result"
    }
   ],
   "source": [
    "dataset = '/Users/fernanda/Library/Mobile Documents/com~apple~CloudDocs/alura/_validacao_de_modelos/emp_automovel.csv'\n",
    "dados = pd.read_csv(dataset)\n",
    "dados.head()"
   ]
  },
  {
   "cell_type": "markdown",
   "id": "54af1e7d",
   "metadata": {},
   "source": [
    "# Conhecendo o dataset"
   ]
  },
  {
   "cell_type": "markdown",
   "id": "5ec5916f",
   "metadata": {},
   "source": [
    "Trata-se de um banco de dados de uma empresa de empréstimo de automóveis. \n",
    "\n",
    "Ela está com uma alta demanda para uma frota reduzida e uma alta taxa de clientes inadimplentes, ou seja, clientes que não pagam o empréstimo no tempo devido.\n",
    "\n",
    "Este fato está gerando um grande prejuízo para a empresa.\n",
    "Nosso objetivo é identificar esses clientes inadimplentes antes mesmo da empresa conceder o empréstimo do veículo.\n",
    "\n",
    "**Colunas:**\n",
    "- receita_cliente\n",
    "- anuidade_emprestimo\n",
    "- anos_casa_propria\n",
    "- telefone_trab\n",
    "- avaliacao_cidade\n",
    "- score_1/score_2/score_3/score_social\n",
    "- troca_telefone\t\n",
    "- inadimplente: sendo 1 para cliente pagou o emprestimo no tempo acordado e 0 para cliente nãoo pagou o emprestimo no tempo acordado"
   ]
  },
  {
   "cell_type": "markdown",
   "id": "a65191d8",
   "metadata": {},
   "source": [
    "# Preparando dados para o Modelo\n"
   ]
  },
  {
   "cell_type": "markdown",
   "id": "532b6229",
   "metadata": {},
   "source": [
    "### Separando as variáveis explicatórias(x) e dependente/alvo(y)"
   ]
  },
  {
   "cell_type": "code",
   "execution_count": 454,
   "id": "2d9189d3",
   "metadata": {},
   "outputs": [],
   "source": [
    "x = dados.drop('inadimplente', axis =1) #todas as colunas menos a 'inadimplente\"\n",
    "y = dados['inadimplente']"
   ]
  },
  {
   "cell_type": "markdown",
   "id": "51c65cf8",
   "metadata": {},
   "source": [
    "### Separando dados de treino, validação e teste "
   ]
  },
  {
   "cell_type": "code",
   "execution_count": 455,
   "id": "a15c12cb",
   "metadata": {},
   "outputs": [
    {
     "name": "stdout",
     "output_type": "stream",
     "text": [
      "O treino foi realizado com 34440 elementos.\n",
      "A validação foi realizada com 11481 elementos.\n",
      "O teste foi realizado com 8104 elementos.\n"
     ]
    }
   ],
   "source": [
    "#dados de teste\n",
    "x, x_teste, y, y_teste = train_test_split(x, y, test_size = 0.15, stratify = y, random_state = 5)\n",
    "\n",
    "#dados de treino e validação \n",
    "x_treino, x_val, y_treino, y_val = train_test_split(x, y, stratify = y, random_state = 5)\n",
    "\n",
    "print(f'O treino foi realizado com {len(x_treino)} elementos.')\n",
    "print(f'A validação foi realizada com {len(x_val)} elementos.')\n",
    "print(f'O teste foi realizado com {len(x_teste)} elementos.')"
   ]
  },
  {
   "cell_type": "markdown",
   "id": "18df2144",
   "metadata": {},
   "source": [
    "# Modelo: DecisionTreeClassifier"
   ]
  },
  {
   "cell_type": "markdown",
   "id": "5fa8a395",
   "metadata": {},
   "source": [
    "### Treinando o modelo "
   ]
  },
  {
   "cell_type": "code",
   "execution_count": 456,
   "id": "eb2b35a8",
   "metadata": {},
   "outputs": [
    {
     "data": {
      "text/html": [
       "<style>#sk-container-id-23 {color: black;background-color: white;}#sk-container-id-23 pre{padding: 0;}#sk-container-id-23 div.sk-toggleable {background-color: white;}#sk-container-id-23 label.sk-toggleable__label {cursor: pointer;display: block;width: 100%;margin-bottom: 0;padding: 0.3em;box-sizing: border-box;text-align: center;}#sk-container-id-23 label.sk-toggleable__label-arrow:before {content: \"▸\";float: left;margin-right: 0.25em;color: #696969;}#sk-container-id-23 label.sk-toggleable__label-arrow:hover:before {color: black;}#sk-container-id-23 div.sk-estimator:hover label.sk-toggleable__label-arrow:before {color: black;}#sk-container-id-23 div.sk-toggleable__content {max-height: 0;max-width: 0;overflow: hidden;text-align: left;background-color: #f0f8ff;}#sk-container-id-23 div.sk-toggleable__content pre {margin: 0.2em;color: black;border-radius: 0.25em;background-color: #f0f8ff;}#sk-container-id-23 input.sk-toggleable__control:checked~div.sk-toggleable__content {max-height: 200px;max-width: 100%;overflow: auto;}#sk-container-id-23 input.sk-toggleable__control:checked~label.sk-toggleable__label-arrow:before {content: \"▾\";}#sk-container-id-23 div.sk-estimator input.sk-toggleable__control:checked~label.sk-toggleable__label {background-color: #d4ebff;}#sk-container-id-23 div.sk-label input.sk-toggleable__control:checked~label.sk-toggleable__label {background-color: #d4ebff;}#sk-container-id-23 input.sk-hidden--visually {border: 0;clip: rect(1px 1px 1px 1px);clip: rect(1px, 1px, 1px, 1px);height: 1px;margin: -1px;overflow: hidden;padding: 0;position: absolute;width: 1px;}#sk-container-id-23 div.sk-estimator {font-family: monospace;background-color: #f0f8ff;border: 1px dotted black;border-radius: 0.25em;box-sizing: border-box;margin-bottom: 0.5em;}#sk-container-id-23 div.sk-estimator:hover {background-color: #d4ebff;}#sk-container-id-23 div.sk-parallel-item::after {content: \"\";width: 100%;border-bottom: 1px solid gray;flex-grow: 1;}#sk-container-id-23 div.sk-label:hover label.sk-toggleable__label {background-color: #d4ebff;}#sk-container-id-23 div.sk-serial::before {content: \"\";position: absolute;border-left: 1px solid gray;box-sizing: border-box;top: 0;bottom: 0;left: 50%;z-index: 0;}#sk-container-id-23 div.sk-serial {display: flex;flex-direction: column;align-items: center;background-color: white;padding-right: 0.2em;padding-left: 0.2em;position: relative;}#sk-container-id-23 div.sk-item {position: relative;z-index: 1;}#sk-container-id-23 div.sk-parallel {display: flex;align-items: stretch;justify-content: center;background-color: white;position: relative;}#sk-container-id-23 div.sk-item::before, #sk-container-id-23 div.sk-parallel-item::before {content: \"\";position: absolute;border-left: 1px solid gray;box-sizing: border-box;top: 0;bottom: 0;left: 50%;z-index: -1;}#sk-container-id-23 div.sk-parallel-item {display: flex;flex-direction: column;z-index: 1;position: relative;background-color: white;}#sk-container-id-23 div.sk-parallel-item:first-child::after {align-self: flex-end;width: 50%;}#sk-container-id-23 div.sk-parallel-item:last-child::after {align-self: flex-start;width: 50%;}#sk-container-id-23 div.sk-parallel-item:only-child::after {width: 0;}#sk-container-id-23 div.sk-dashed-wrapped {border: 1px dashed gray;margin: 0 0.4em 0.5em 0.4em;box-sizing: border-box;padding-bottom: 0.4em;background-color: white;}#sk-container-id-23 div.sk-label label {font-family: monospace;font-weight: bold;display: inline-block;line-height: 1.2em;}#sk-container-id-23 div.sk-label-container {text-align: center;}#sk-container-id-23 div.sk-container {/* jupyter's `normalize.less` sets `[hidden] { display: none; }` but bootstrap.min.css set `[hidden] { display: none !important; }` so we also need the `!important` here to be able to override the default hidden behavior on the sphinx rendered scikit-learn.org. See: https://github.com/scikit-learn/scikit-learn/issues/21755 */display: inline-block !important;position: relative;}#sk-container-id-23 div.sk-text-repr-fallback {display: none;}</style><div id=\"sk-container-id-23\" class=\"sk-top-container\"><div class=\"sk-text-repr-fallback\"><pre>DecisionTreeClassifier(max_depth=10)</pre><b>In a Jupyter environment, please rerun this cell to show the HTML representation or trust the notebook. <br />On GitHub, the HTML representation is unable to render, please try loading this page with nbviewer.org.</b></div><div class=\"sk-container\" hidden><div class=\"sk-item\"><div class=\"sk-estimator sk-toggleable\"><input class=\"sk-toggleable__control sk-hidden--visually\" id=\"sk-estimator-id-23\" type=\"checkbox\" checked><label for=\"sk-estimator-id-23\" class=\"sk-toggleable__label sk-toggleable__label-arrow\">DecisionTreeClassifier</label><div class=\"sk-toggleable__content\"><pre>DecisionTreeClassifier(max_depth=10)</pre></div></div></div></div></div>"
      ],
      "text/plain": [
       "DecisionTreeClassifier(max_depth=10)"
      ]
     },
     "execution_count": 456,
     "metadata": {},
     "output_type": "execute_result"
    }
   ],
   "source": [
    "#treinando o modelo com dados de treino\n",
    "modelo = DecisionTreeClassifier(max_depth = 10)\n",
    "modelo.fit(x_treino, y_treino)"
   ]
  },
  {
   "cell_type": "markdown",
   "id": "7b75dec2",
   "metadata": {},
   "source": [
    "# Métricas"
   ]
  },
  {
   "cell_type": "markdown",
   "id": "24c7dc27",
   "metadata": {},
   "source": [
    "### Acuracia de treino "
   ]
  },
  {
   "cell_type": "code",
   "execution_count": 457,
   "id": "c0acbe54",
   "metadata": {},
   "outputs": [
    {
     "name": "stdout",
     "output_type": "stream",
     "text": [
      "Acurácia de treino: 0.9205865272938444\n"
     ]
    }
   ],
   "source": [
    "modelo.score(x_treino, y_treino)\n",
    "print(f'Acurácia de treino: {modelo.score(x_treino, y_treino)}')"
   ]
  },
  {
   "cell_type": "markdown",
   "id": "099f4058",
   "metadata": {},
   "source": [
    "### Acuracia de validação  "
   ]
  },
  {
   "cell_type": "code",
   "execution_count": 458,
   "id": "9157665f",
   "metadata": {},
   "outputs": [
    {
     "name": "stdout",
     "output_type": "stream",
     "text": [
      "Acurácia de validação: 0.9057573382109573\n"
     ]
    }
   ],
   "source": [
    "modelo.score(x_val, y_val)\n",
    "print(f'Acurácia de validação: {modelo.score(x_val, y_val)}')\n"
   ]
  },
  {
   "cell_type": "markdown",
   "id": "7da6a536",
   "metadata": {},
   "source": [
    "### Matriz de confusão"
   ]
  },
  {
   "cell_type": "code",
   "execution_count": 459,
   "id": "c17dc082",
   "metadata": {},
   "outputs": [
    {
     "data": {
      "image/png": "[encoded data removed]",
      "text/plain": [
       "<Figure size 640x480 with 2 Axes>"
      ]
     },
     "metadata": {},
     "output_type": "display_data"
    }
   ],
   "source": [
    "y_previsto = modelo.predict(x_val)\n",
    "matriz_confusao = confusion_matrix(y_val, y_previsto)\n",
    "\n",
    "# plotando e configurando as lables do gráfico \n",
    "visualizacao = ConfusionMatrixDisplay(confusion_matrix = matriz_confusao, display_labels=['Adimplente', 'Inadimplente'])\n",
    "visualizacao.plot();"
   ]
  },
  {
   "cell_type": "markdown",
   "id": "c60cf38e",
   "metadata": {},
   "source": [
    "No gráfico acima vemos que o modelo que temos teve o desempenho:\n",
    "- Dos clientes que o modelo disse que iriam pagar (Adimplentes) ele acertou 10.000 e errou 961.\n",
    "\n",
    "- Dos clientes que o modelo disse que  NÃO iriam pagar (Inadimplentes) ele acertou 41 e errou 121.\n",
    "\n",
    "Neste caso **o modelo está errando muito** pois em um total de inadimplentes reais (961 + 41 = 1002 pessoas) o modelo só identificou 41 dessas, mesmo com uma acurácia de acima de 90%. "
   ]
  },
  {
   "cell_type": "markdown",
   "id": "a5d167f9",
   "metadata": {},
   "source": [
    "### Acurácia"
   ]
  },
  {
   "cell_type": "code",
   "execution_count": 460,
   "id": "2433fa03",
   "metadata": {},
   "outputs": [
    {
     "name": "stdout",
     "output_type": "stream",
     "text": [
      "Acurácia: 0.9057573382109573\n"
     ]
    }
   ],
   "source": [
    "accuracy_score(y_val, y_previsto)\n",
    "print(f'Acurácia: {accuracy_score(y_val, y_previsto)}')"
   ]
  },
  {
   "cell_type": "markdown",
   "id": "bb110410",
   "metadata": {},
   "source": [
    "### Precision "
   ]
  },
  {
   "cell_type": "markdown",
   "id": "3a2bab95",
   "metadata": {},
   "source": [
    "- Considera somente os valores **previsto** pelo modelo que representam a presença da característica (Inadiplência)."
   ]
  },
  {
   "cell_type": "code",
   "execution_count": 461,
   "id": "8136f949",
   "metadata": {},
   "outputs": [
    {
     "name": "stdout",
     "output_type": "stream",
     "text": [
      "Precisão: 0.2468354430379747\n"
     ]
    }
   ],
   "source": [
    "precision_score(y_val, y_previsto)\n",
    "print(f'Precisão: {precision_score(y_val, y_previsto)}')"
   ]
  },
  {
   "cell_type": "markdown",
   "id": "fc2e8b09",
   "metadata": {},
   "source": [
    "### Recall"
   ]
  },
  {
   "cell_type": "markdown",
   "id": "9e941ab8",
   "metadata": {},
   "source": [
    "- Considera somente os valores **reais** que representam a presença da característica (Inadiplência)."
   ]
  },
  {
   "cell_type": "code",
   "execution_count": 462,
   "id": "86a707dc",
   "metadata": {},
   "outputs": [
    {
     "name": "stdout",
     "output_type": "stream",
     "text": [
      "Recall: 0.038922155688622756\n"
     ]
    }
   ],
   "source": [
    "recall_score(y_val, y_previsto)\n",
    "print(f'Recall: {recall_score(y_val, y_previsto)}')"
   ]
  },
  {
   "cell_type": "markdown",
   "id": "618489f7",
   "metadata": {},
   "source": [
    "Tendo em vista que os melhores resultados são os que se aproximam de 1, os valores das métricas Precision(0.26) e Recall(0.04) estão muito abaixo do esperado mostrando que o modelo realmente não está desempenhando um bom papel.\n",
    "\n",
    "Sendo assim, o que precisamos fazer é escolher qual métrica desejaremos avançar neste caso.  \n",
    "\n",
    "No caso do recall são observados os valores **reais** dos clientes que não pagaram. \n",
    " É a quantidade de clientes que não pagaram, mas a maaquina disse que iriam pagar (ou seja, a maquina errou). Qt maior a quantidade de clientes que não irão pagar e que a máquina disse que pagaria (falso positivo) maior é a possibilidade da empresa tomar um prejuizo pois vai vender pra alguém que corre risco alto de não pagar. Essa métrica deveria ser melhorada.\n",
    "\n",
    "Já na Precision são os valores **estimados** pela máquina, em que a máquina acertou que vão vao pagar. Nesse caso é muito mais importante nao vender para os que nao vao pagar do que acertar na mosca os que vao pagar. A métrica escolhida foi a **Recall**.\n"
   ]
  },
  {
   "cell_type": "markdown",
   "id": "710b2c0c",
   "metadata": {},
   "source": [
    "### F1 (equilíbrio entre precision e recall)"
   ]
  },
  {
   "cell_type": "code",
   "execution_count": 463,
   "id": "e8f011a5",
   "metadata": {},
   "outputs": [
    {
     "name": "stdout",
     "output_type": "stream",
     "text": [
      "F1-score: 0.06724137931034484\n"
     ]
    }
   ],
   "source": [
    "f1_score(y_val, y_previsto)\n",
    "print(f'F1-score: {f1_score(y_val, y_previsto)}')\n"
   ]
  },
  {
   "cell_type": "markdown",
   "id": "4fe92c2f",
   "metadata": {},
   "source": [
    "## Gráficos construídos a partir do Recall"
   ]
  },
  {
   "cell_type": "markdown",
   "id": "605cebe8",
   "metadata": {},
   "source": [
    "### Curva ROC (só podemos utilizar em classificação binária)"
   ]
  },
  {
   "cell_type": "markdown",
   "id": "9d8dbd4b",
   "metadata": {},
   "source": [
    "**1)** Quando a curva estiver mais próxima do canto superior esquerdo (próximo do 1 no eixo y) melhor o modelo.\n",
    "\n",
    "**2)** Quando a curva estiver mais próxima de uma linha diagonal pior é o modelo, pois isso indica que ele está prevendo aleatoriamente e com pouca inteligência.\n",
    "\n",
    "**3)** Quando o AUC for mais próximo de 1 melhor o resultado e quanto mais próximo de 0.5 pior o resultado."
   ]
  },
  {
   "cell_type": "code",
   "execution_count": 464,
   "id": "76fc6991",
   "metadata": {},
   "outputs": [
    {
     "data": {
      "image/png": "[encoded data removed]",
      "text/plain": [
       "<Figure size 640x480 with 1 Axes>"
      ]
     },
     "metadata": {},
     "output_type": "display_data"
    }
   ],
   "source": [
    "RocCurveDisplay.from_predictions(y_val, y_previsto, name = 'Árvore de Decisão');\n"
   ]
  },
  {
   "cell_type": "markdown",
   "id": "52317271",
   "metadata": {},
   "source": [
    "### Avaliando a métrica AUC"
   ]
  },
  {
   "cell_type": "code",
   "execution_count": 465,
   "id": "3b3d51fe",
   "metadata": {},
   "outputs": [
    {
     "name": "stdout",
     "output_type": "stream",
     "text": [
      "AUC: 0.5137830551322206\n"
     ]
    }
   ],
   "source": [
    "roc_auc_score(y_val, y_previsto)\n",
    "print(f'AUC: {roc_auc_score(y_val, y_previsto)}')\n"
   ]
  },
  {
   "cell_type": "markdown",
   "id": "04e86b9f",
   "metadata": {},
   "source": [
    "### Curva se precisão X recall"
   ]
  },
  {
   "cell_type": "markdown",
   "id": "8f309a01",
   "metadata": {},
   "source": [
    "**1)** Quando a curva estiver mais próxima do canto superior direito (próximo do 1 no eixo y) melhor o modelo e quanto mais perto do do 0 pior é o modelo.\n",
    "\n",
    "**2)** Quanto mais próximo de zero for a mátrica AP(averege precision) pior é o modelo."
   ]
  },
  {
   "cell_type": "code",
   "execution_count": 466,
   "id": "5a9a05ac",
   "metadata": {},
   "outputs": [
    {
     "data": {
      "image/png": "[encoded data removed]",
      "text/plain": [
       "<Figure size 640x480 with 1 Axes>"
      ]
     },
     "metadata": {},
     "output_type": "display_data"
    }
   ],
   "source": [
    "PrecisionRecallDisplay.from_predictions(y_val, y_previsto, name = 'Árvore de decisão');"
   ]
  },
  {
   "cell_type": "markdown",
   "id": "06562971",
   "metadata": {},
   "source": [
    "### Avaliando a métrica AP "
   ]
  },
  {
   "cell_type": "code",
   "execution_count": 467,
   "id": "6c7ef9c5",
   "metadata": {},
   "outputs": [
    {
     "name": "stdout",
     "output_type": "stream",
     "text": [
      "AP: 0.09348507854417813\n"
     ]
    }
   ],
   "source": [
    "average_precision_score(y_val, y_previsto)\n",
    "print(f'AP: {average_precision_score(y_val, y_previsto)}')"
   ]
  },
  {
   "cell_type": "markdown",
   "id": "864c2743",
   "metadata": {},
   "source": [
    "### Resumo das principais métricas"
   ]
  },
  {
   "cell_type": "code",
   "execution_count": 468,
   "id": "3af6f98a",
   "metadata": {},
   "outputs": [
    {
     "name": "stdout",
     "output_type": "stream",
     "text": [
      "              precision    recall  f1-score   support\n",
      "\n",
      "           0       0.91      0.99      0.95     10479\n",
      "           1       0.25      0.04      0.07      1002\n",
      "\n",
      "    accuracy                           0.91     11481\n",
      "   macro avg       0.58      0.51      0.51     11481\n",
      "weighted avg       0.86      0.91      0.87     11481\n",
      "\n"
     ]
    }
   ],
   "source": [
    "print(classification_report(y_val, y_previsto))"
   ]
  },
  {
   "cell_type": "markdown",
   "id": "c9c76780",
   "metadata": {},
   "source": [
    "## Validação cruzada"
   ]
  },
  {
   "cell_type": "markdown",
   "id": "33808081",
   "metadata": {},
   "source": [
    "- Dividindo os dados de treinamento e validação em 5 partes para retreinar o modelo."
   ]
  },
  {
   "cell_type": "markdown",
   "id": "7cfd138c",
   "metadata": {},
   "source": [
    "### KFold"
   ]
  },
  {
   "cell_type": "code",
   "execution_count": 469,
   "id": "bb66ee24",
   "metadata": {},
   "outputs": [
    {
     "data": {
      "text/plain": [
       "{'fit_time': array([0.13066316, 0.12412214, 0.12004924, 0.11953163, 0.11713409]),\n",
       " 'score_time': array([0.0016439 , 0.00170779, 0.00156093, 0.00149608, 0.00136399]),\n",
       " 'test_score': array([0.91257485, 0.90722997, 0.90777439, 0.91365418, 0.89928136])}"
      ]
     },
     "execution_count": 469,
     "metadata": {},
     "output_type": "execute_result"
    }
   ],
   "source": [
    "modelo = DecisionTreeClassifier(max_depth = 10)\n",
    "kf = KFold(n_splits = 5, shuffle = True, random_state = 5)\n",
    "cv_resultados = cross_validate(modelo, x, y, cv = kf)\n",
    "cv_resultados"
   ]
  },
  {
   "cell_type": "code",
   "execution_count": 470,
   "id": "10a49f36",
   "metadata": {},
   "outputs": [
    {
     "name": "stdout",
     "output_type": "stream",
     "text": [
      "Intervalo de confiança: [0.897924360497246, 0.9182815378106679]\n"
     ]
    }
   ],
   "source": [
    "#média, o desvio padrão e criar o intervalo de confiança\n",
    "cv_resultados['test_score']\n",
    "media = cv_resultados['test_score'].mean()\n",
    "desvio_padrao = cv_resultados['test_score'].std()\n",
    "print(f'Intervalo de confiança: [{media - 2*desvio_padrao}, {min(media + 2*desvio_padrao, 1)}]')"
   ]
  },
  {
   "cell_type": "markdown",
   "id": "50c8319a",
   "metadata": {},
   "source": [
    "- Função para criar o modelo de confiança"
   ]
  },
  {
   "cell_type": "code",
   "execution_count": 471,
   "id": "63ea95a1",
   "metadata": {},
   "outputs": [],
   "source": [
    "def intervalo_conf():\n",
    "    media = cv_resultados['test_score'].mean()\n",
    "    desvio_padrao = cv_resultados['test_score'].std()\n",
    "    print(f'Intervalo de confiança: [{media - 2*desvio_padrao}, {min(media + 2*desvio_padrao, 1)}]')\n"
   ]
  },
  {
   "cell_type": "code",
   "execution_count": 472,
   "id": "eb24876e",
   "metadata": {},
   "outputs": [],
   "source": [
    "def intervalo_conf(resultados):\n",
    "    media = resultados['test_score'].mean()\n",
    "    desvio_padrao = resultados['test_score'].std()\n",
    "    print(f'Intervalo de confiança: [{media - 2*desvio_padrao}, {min(media + 2*desvio_padrao, 1)}]')"
   ]
  },
  {
   "cell_type": "code",
   "execution_count": 473,
   "id": "cb1187e8",
   "metadata": {},
   "outputs": [
    {
     "data": {
      "text/plain": [
       "{'fit_time': array([0.12095785, 0.11708379, 0.11702609, 0.11623669, 0.11673594]),\n",
       " 'score_time': array([0.00253892, 0.00234008, 0.00233698, 0.00234532, 0.00234079]),\n",
       " 'test_score': array([0.02642008, 0.01732673, 0.01845018, 0.0156658 , 0.02427746])}"
      ]
     },
     "execution_count": 473,
     "metadata": {},
     "output_type": "execute_result"
    }
   ],
   "source": [
    "modelo = DecisionTreeClassifier(max_depth = 10)\n",
    "kf = KFold(n_splits = 5, shuffle = True, random_state = 5)\n",
    "cv_resultados = cross_validate(modelo, x, y, cv = kf, scoring = 'recall')\n",
    "cv_resultados"
   ]
  },
  {
   "cell_type": "code",
   "execution_count": 474,
   "id": "e9cb59d1",
   "metadata": {},
   "outputs": [
    {
     "name": "stdout",
     "output_type": "stream",
     "text": [
      "Intervalo de confiança: [0.012088672107232948, 0.02876742766372565]\n"
     ]
    }
   ],
   "source": [
    "intervalo_conf(cv_resultados)"
   ]
  },
  {
   "cell_type": "markdown",
   "id": "22e61003",
   "metadata": {},
   "source": [
    "### Estratificando os dados "
   ]
  },
  {
   "cell_type": "code",
   "execution_count": 475,
   "id": "e50ed8d7",
   "metadata": {},
   "outputs": [
    {
     "data": {
      "text/plain": [
       "0    0.912707\n",
       "1    0.087293\n",
       "Name: inadimplente, dtype: float64"
      ]
     },
     "execution_count": 475,
     "metadata": {},
     "output_type": "execute_result"
    }
   ],
   "source": [
    "dados['inadimplente'].value_counts(normalize = True)"
   ]
  },
  {
   "cell_type": "code",
   "execution_count": 476,
   "id": "50a66a65",
   "metadata": {},
   "outputs": [],
   "source": [
    "modelo = DecisionTreeClassifier(max_depth = 10)\n",
    "skf = StratifiedKFold(n_splits = 5, shuffle = True, random_state = 5)\n",
    "cv_resultados = cross_validate(modelo, x, y, cv = skf, scoring='recall')"
   ]
  },
  {
   "cell_type": "code",
   "execution_count": 477,
   "id": "e2ee4a89",
   "metadata": {},
   "outputs": [
    {
     "name": "stdout",
     "output_type": "stream",
     "text": [
      "Intervalo de confiança: [0.020534291999571, 0.03583726350617151]\n"
     ]
    }
   ],
   "source": [
    "intervalo_conf(cv_resultados)"
   ]
  },
  {
   "cell_type": "markdown",
   "id": "60a67382",
   "metadata": {},
   "source": [
    "### Balanceando os dados (gerando novos dados com padrão bem próximo aos já existentes) Mas não é correto"
   ]
  },
  {
   "cell_type": "markdown",
   "id": "cd4decdf",
   "metadata": {},
   "source": [
    "- Oversampling com o método SMOTE"
   ]
  },
  {
   "cell_type": "code",
   "execution_count": 478,
   "id": "997d0628",
   "metadata": {},
   "outputs": [],
   "source": [
    "oversample = SMOTE()\n",
    "x_balanceado, y_balanceado = oversample.fit_resample(x, y)"
   ]
  },
  {
   "cell_type": "code",
   "execution_count": 479,
   "id": "30070061",
   "metadata": {},
   "outputs": [
    {
     "data": {
      "text/plain": [
       "0    0.5\n",
       "1    0.5\n",
       "Name: inadimplente, dtype: float64"
      ]
     },
     "execution_count": 479,
     "metadata": {},
     "output_type": "execute_result"
    }
   ],
   "source": [
    "y_balanceado.value_counts(normalize = True)"
   ]
  },
  {
   "cell_type": "markdown",
   "id": "286c34c8",
   "metadata": {},
   "source": [
    "- Treinando o modelo com dados balanceados"
   ]
  },
  {
   "cell_type": "code",
   "execution_count": 480,
   "id": "eef7d598",
   "metadata": {},
   "outputs": [],
   "source": [
    "modelo = DecisionTreeClassifier(max_depth = 10)\n",
    "skf = StratifiedKFold(n_splits=5, shuffle = True, random_state = 5)\n",
    "cv_resultados = cross_validate(modelo, x_balanceado, y_balanceado, cv=skf, scoring = 'recall')"
   ]
  },
  {
   "cell_type": "code",
   "execution_count": 481,
   "id": "7b8310f3",
   "metadata": {},
   "outputs": [
    {
     "name": "stdout",
     "output_type": "stream",
     "text": [
      "Intervalo de confiança: [0.7056058681522579, 0.7475827312313499]\n"
     ]
    }
   ],
   "source": [
    "intervalo_conf(cv_resultados)"
   ]
  },
  {
   "cell_type": "markdown",
   "id": "394b54d3",
   "metadata": {},
   "source": [
    "- Pipeline para validação (forma correta)"
   ]
  },
  {
   "cell_type": "code",
   "execution_count": 482,
   "id": "de88d78e",
   "metadata": {},
   "outputs": [],
   "source": [
    "modelo = DecisionTreeClassifier(max_depth = 10)\n",
    "pipeline = imbpipeline([('oversample', SMOTE()), ('arvore', modelo)])"
   ]
  },
  {
   "cell_type": "code",
   "execution_count": 483,
   "id": "68fbfc70",
   "metadata": {},
   "outputs": [],
   "source": [
    "skf = StratifiedKFold(n_splits=5, shuffle = True, random_state = 5)\n",
    "cv_resultados = cross_validate(pipeline, x, y, cv=skf, scoring = 'recall')"
   ]
  },
  {
   "cell_type": "code",
   "execution_count": 484,
   "id": "45d01de5",
   "metadata": {},
   "outputs": [
    {
     "name": "stdout",
     "output_type": "stream",
     "text": [
      "Intervalo de confiança: [0.20042442805772712, 0.2944650648143374]\n"
     ]
    }
   ],
   "source": [
    "intervalo_conf(cv_resultados)"
   ]
  },
  {
   "cell_type": "markdown",
   "id": "cc33f854",
   "metadata": {},
   "source": [
    "- Undersampling NearMiss\n",
    "(retirar dados - de forma aleatória- da classe que tem mais dados para balancear )"
   ]
  },
  {
   "cell_type": "code",
   "execution_count": 485,
   "id": "035850e9",
   "metadata": {},
   "outputs": [],
   "source": [
    "modelo = DecisionTreeClassifier(max_depth = 10)\n",
    "pipeline = imbpipeline([('undersample', NearMiss(version=3)), ('arvore', modelo)])"
   ]
  },
  {
   "cell_type": "code",
   "execution_count": 486,
   "id": "3bce282b",
   "metadata": {},
   "outputs": [],
   "source": [
    "modelo = DecisionTreeClassifier(max_depth = 10)\n",
    "pipeline = imbpipeline([('undersample', NearMiss(version=3)), ('arvore', modelo)])\n",
    "skf = StratifiedKFold(n_splits=5, shuffle = True, random_state = 5)\n",
    "cv_resultados = cross_validate(pipeline, x, y, cv=skf, scoring = 'recall')"
   ]
  },
  {
   "cell_type": "code",
   "execution_count": 487,
   "id": "617124b9",
   "metadata": {},
   "outputs": [
    {
     "name": "stdout",
     "output_type": "stream",
     "text": [
      "Intervalo de confiança: [0.626090417932067, 0.6969166710869585]\n"
     ]
    }
   ],
   "source": [
    "intervalo_conf(cv_resultados)"
   ]
  },
  {
   "cell_type": "markdown",
   "id": "903f53e6",
   "metadata": {},
   "source": [
    "- Método escolhido: Undersampling NearMiss "
   ]
  },
  {
   "cell_type": "code",
   "execution_count": 488,
   "id": "6482e7e5",
   "metadata": {},
   "outputs": [],
   "source": [
    "#Aplicando o método Undersampling NearMiss para toda a base de dados\n",
    "undersample = NearMiss(version=3)\n",
    "x_balanceado, y_balanceado = undersample.fit_resample(x, y)"
   ]
  },
  {
   "cell_type": "code",
   "execution_count": 489,
   "id": "3275b4be",
   "metadata": {},
   "outputs": [],
   "source": [
    "#Treinando e testando modelo com os dados de TESTE\n",
    "modelo = DecisionTreeClassifier(max_depth = 10)\n",
    "modelo.fit(x_balanceado, y_balanceado)\n",
    "y_previsto = modelo.predict(x_teste)"
   ]
  },
  {
   "cell_type": "code",
   "execution_count": 490,
   "id": "4b8d4deb",
   "metadata": {},
   "outputs": [
    {
     "name": "stdout",
     "output_type": "stream",
     "text": [
      "              precision    recall  f1-score   support\n",
      "\n",
      "           0       0.94      0.48      0.64      7397\n",
      "           1       0.11      0.70      0.20       707\n",
      "\n",
      "    accuracy                           0.50      8104\n",
      "   macro avg       0.53      0.59      0.42      8104\n",
      "weighted avg       0.87      0.50      0.60      8104\n",
      "\n"
     ]
    }
   ],
   "source": [
    "print(classification_report(y_teste, y_previsto))"
   ]
  },
  {
   "cell_type": "code",
   "execution_count": 491,
   "id": "57d0f598",
   "metadata": {},
   "outputs": [
    {
     "data": {
      "image/png": "[encoded data removed]",
      "text/plain": [
       "<Figure size 640x480 with 2 Axes>"
      ]
     },
     "metadata": {},
     "output_type": "display_data"
    }
   ],
   "source": [
    "ConfusionMatrixDisplay.from_predictions(y_teste, y_previsto);"
   ]
  }
 ],
 "metadata": {
  "kernelspec": {
   "display_name": "Python 3 (ipykernel)",
   "language": "python",
   "name": "python3"
  },
  "language_info": {
   "codemirror_mode": {
    "name": "ipython",
    "version": 3
   },
   "file_extension": ".py",
   "mimetype": "text/x-python",
   "name": "python",
   "nbconvert_exporter": "python",
   "pygments_lexer": "ipython3",
   "version": "3.10.9"
  }
 },
 "nbformat": 4,
 "nbformat_minor": 5
}
